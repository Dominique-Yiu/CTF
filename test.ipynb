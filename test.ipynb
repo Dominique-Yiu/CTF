{
 "cells": [
  {
   "cell_type": "code",
   "execution_count": 1,
   "metadata": {
    "collapsed": true,
    "pycharm": {
     "name": "#%%\n"
    }
   },
   "outputs": [],
   "source": [
    "import pandas as pd\n",
    "import numpy as np\n",
    "import matplotlib.pyplot as plt"
   ]
  },
  {
   "cell_type": "code",
   "execution_count": 11,
   "outputs": [
    {
     "data": {
      "text/plain": "<Figure size 432x288 with 1 Axes>",
      "image/png": "[encoded data removed]"
     },
     "metadata": {
      "needs_background": "light"
     },
     "output_type": "display_data"
    }
   ],
   "source": [
    "import numpy as np\n",
    "import matplotlib.pyplot as plt\n",
    "data = np.loadtxt('filtered_data.csv')\n",
    "plt.plot(data)\n",
    "x = np.sort(np.array([23361, 32703, 7399, 4167, 28243, 18358]))\n",
    "plt.scatter(x, [400, 400, 400, 400, 400, 400])\n",
    "plt.show()"
   ],
   "metadata": {
    "collapsed": false,
    "pycharm": {
     "name": "#%%\n"
    }
   }
  },
  {
   "cell_type": "code",
   "execution_count": 10,
   "outputs": [
    {
     "data": {
      "text/plain": "array([ 4167,  7399, 18358, 23361, 28243, 32703])"
     },
     "execution_count": 10,
     "metadata": {},
     "output_type": "execute_result"
    }
   ],
   "source": [],
   "metadata": {
    "collapsed": false,
    "pycharm": {
     "name": "#%%\n"
    }
   }
  },
  {
   "cell_type": "code",
   "execution_count": 1,
   "outputs": [],
   "source": [
    "import numpy as np\n",
    "\n",
    "feature_path = 'gross_features.csv'\n",
    "name_path = 'gross_name.csv'"
   ],
   "metadata": {
    "collapsed": false,
    "pycharm": {
     "name": "#%%\n"
    }
   }
  },
  {
   "cell_type": "code",
   "execution_count": 2,
   "outputs": [],
   "source": [
    "def delete_modify(file_path=None, raw_path=None, delete_name=None):\n",
    "    name_list = np.loadtxt(file_path, dtype=str)\n",
    "    raw_data = np.loadtxt(raw_path)\n",
    "    index = np.where(name_list == delete_name)[0]\n",
    "    if len(index) == 0:\n",
    "        print('The user name does not exist.')\n",
    "        return None\n",
    "    else:\n",
    "        name_list = np.delete(name_list, index[0], axis=0)\n",
    "        for _ in range(8):\n",
    "            raw_data = np.delete(raw_data, index[0] * 8, axis=0)\n",
    "        column = raw_data.shape[1]\n",
    "        for idx in range(column - 1, 0, -1):\n",
    "            if ~np.any(raw_data[:, idx]):\n",
    "                raw_data = np.delete(raw_data, idx, axis=1)\n",
    "        np.savetxt(file_path, name_list, fmt='%s')\n",
    "        np.savetxt(raw_path, raw_data)"
   ],
   "metadata": {
    "collapsed": false,
    "pycharm": {
     "name": "#%%\n"
    }
   }
  },
  {
   "cell_type": "code",
   "execution_count": 3,
   "outputs": [],
   "source": [
    "def add_modify(file_path=None, raw_path=None, data=None, add_data=None, add_name=None):\n",
    "    name_list = np.loadtxt(file_path, dtype=str)\n",
    "    if data is None:\n",
    "        raw_data = np.loadtxt(raw_path)\n",
    "    else:\n",
    "        raw_data = data\n",
    "    if raw_data.shape[0] == 0:\n",
    "        result = add_data\n",
    "    else:\n",
    "        column = raw_data.shape[1] if raw_data.shape[1] > add_data.shape[1] else add_data.shape[1]\n",
    "        result = np.zeros((raw_data.shape[0] + add_data.shape[0], column))\n",
    "        result[0:raw_data.shape[0], 0:raw_data.shape[1]] = raw_data\n",
    "        result[raw_data.shape[0]:, 0:add_data.shape[1]] = add_data\n",
    "    if data is None:\n",
    "        name_list = np.append(name_list, add_name)\n",
    "        np.savetxt(raw_path, result)\n",
    "        np.savetxt(file_path, name_list, fmt='%s')\n",
    "    else:\n",
    "        return result\n",
    "def overlap_modify(file_path=None, raw_path=None, add_data=None, selected_name=None):\n",
    "    name_list = np.loadtxt(file_path, dtype=str)\n",
    "    raw_data = np.loadtxt(raw_path)\n",
    "    index = np.where(name_list == selected_name)[0]\n",
    "    if len(index) == 0:\n",
    "        print('The user name does not exist.')\n",
    "        return None\n",
    "    else:\n",
    "        fore_part = raw_data[0:index[0] * 8, :]\n",
    "        end_part = raw_data[index[0] * 8 + 8:, :]\n",
    "\n",
    "        fore_part = add_modify(file_path=name_path, raw_path=feature_path, data=fore_part, add_data=add_data)\n",
    "        fore_part = add_modify(file_path=name_path, raw_path=feature_path, data=fore_part, add_data=end_part)\n",
    "\n",
    "        column = fore_part.shape[1]\n",
    "        for idx in range(column - 1, 0, -1):\n",
    "            if ~np.any(fore_part[:, idx]):\n",
    "                fore_part = np.delete(fore_part, idx, axis=1)\n",
    "        np.savetxt(raw_path, fore_part)"
   ],
   "metadata": {
    "collapsed": false,
    "pycharm": {
     "name": "#%%\n"
    }
   }
  },
  {
   "cell_type": "code",
   "execution_count": 4,
   "outputs": [
    {
     "name": "stderr",
     "output_type": "stream",
     "text": [
      "<ipython-input-3-8494170fdb6d>:2: UserWarning: loadtxt: Empty input file: \"gross_name.csv\"\n",
      "  name_list = np.loadtxt(file_path, dtype=str)\n",
      "<ipython-input-3-8494170fdb6d>:4: UserWarning: loadtxt: Empty input file: \"gross_features.csv\"\n",
      "  raw_data = np.loadtxt(raw_path)\n"
     ]
    }
   ],
   "source": [
    "data_1 = np.random.randint(1, 20, (8, 10))\n",
    "data_2 = np.random.randint(1, 20, (8, 7))\n",
    "data_3 = np.random.randint(1, 20, (8, 5))\n",
    "add_modify(file_path=name_path, raw_path=feature_path, data=None, add_data=data_3, add_name='Mike')\n",
    "add_modify(file_path=name_path, raw_path=feature_path, data=None, add_data=data_1, add_name='Bob')\n",
    "add_modify(file_path=name_path, raw_path=feature_path, data=None, add_data=data_2, add_name='Sally')"
   ],
   "metadata": {
    "collapsed": false,
    "pycharm": {
     "name": "#%%\n"
    }
   }
  },
  {
   "cell_type": "code",
   "execution_count": 5,
   "outputs": [],
   "source": [
    "delete_modify(file_path=name_path, raw_path=feature_path, delete_name='Bob')"
   ],
   "metadata": {
    "collapsed": false,
    "pycharm": {
     "name": "#%%\n"
    }
   }
  },
  {
   "cell_type": "code",
   "execution_count": 6,
   "outputs": [],
   "source": [
    "delete_modify(file_path=name_path, raw_path=feature_path, delete_name='Sally')"
   ],
   "metadata": {
    "collapsed": false,
    "pycharm": {
     "name": "#%%\n"
    }
   }
  },
  {
   "cell_type": "code",
   "execution_count": 7,
   "outputs": [],
   "source": [
    "data_4 = np.random.randint(1, 20, (8, 15))\n",
    "overlap_modify(file_path=name_path, raw_path=feature_path, add_data=data_4, selected_name='Mike')"
   ],
   "metadata": {
    "collapsed": false,
    "pycharm": {
     "name": "#%%\n"
    }
   }
  },
  {
   "cell_type": "code",
   "execution_count": null,
   "outputs": [],
   "source": [],
   "metadata": {
    "collapsed": false,
    "pycharm": {
     "name": "#%%\n"
    }
   }
  }
 ],
 "metadata": {
  "kernelspec": {
   "display_name": "Python 3",
   "language": "python",
   "name": "python3"
  },
  "language_info": {
   "codemirror_mode": {
    "name": "ipython",
    "version": 2
   },
   "file_extension": ".py",
   "mimetype": "text/x-python",
   "name": "python",
   "nbconvert_exporter": "python",
   "pygments_lexer": "ipython2",
   "version": "2.7.6"
  }
 },
 "nbformat": 4,
 "nbformat_minor": 0
}