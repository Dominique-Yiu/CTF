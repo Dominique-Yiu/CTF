{
 "cells": [
  {
   "cell_type": "code",
   "execution_count": 1,
   "metadata": {
    "collapsed": true,
    "pycharm": {
     "name": "#%%\n"
    }
   },
   "outputs": [],
   "source": [
    "root_1 = \"three/LXY_两快一慢\"\n",
    "root_2 = \"three/马爽_两慢一快\"\n",
    "root_3 = \"six_seven/FIVELXY1\"\n",
    "root_4 = \"six_seven/FIVELXY2\"\n",
    "root_5 = \"six_seven/FIVEMS1\"\n",
    "root_6 = \"six_seven/FIVEMS2\""
   ]
  },
  {
   "cell_type": "code",
   "execution_count": 2,
   "outputs": [],
   "source": [
    "import numpy as np\n",
    "import pandas as pd\n",
    "import matplotlib.pyplot as plt\n",
    "from filter import iir_design_filter\n",
    "from envelope_process import envelope\n",
    "from variance import window_var\n",
    "from patternmatch import pattern_match\n",
    "import os\n",
    "import copy"
   ],
   "metadata": {
    "collapsed": false,
    "pycharm": {
     "name": "#%%\n"
    }
   }
  },
  {
   "cell_type": "code",
   "execution_count": 23,
   "outputs": [],
   "source": [
    "# LXY 3\n",
    "all_features = []\n",
    "for idx in range(55):\n",
    "    if (idx + 1) < 10:\n",
    "        end = '0' + str(idx + 1)\n",
    "    else:\n",
    "        end = str(idx + 1)\n",
    "    path = root_1 + \"/\" + \"LXY_\" + end + \".csv\"\n",
    "    data = np.loadtxt(path, delimiter=\",\")\n",
    "    filter_module = iir_design_filter()\n",
    "    filtered_data = filter_module.filter_(raw_data=data)\n",
    "    upper, _ = envelope(raw_data=filtered_data, n=100).start()\n",
    "    upper = upper[int(2302 * 0.5):-int(2302 * 0.5)]\n",
    "    rhythm_number = 3\n",
    "    end_points, _ = window_var(data=upper, head=rhythm_number).start()\n",
    "    end_points = np.sort(end_points)\n",
    "    end_points = end_points[1::2]\n",
    "    start_points = pattern_match(data=upper, number=rhythm_number).start()\n",
    "    features = np.append(end_points, start_points)\n",
    "    features = np.sort(features) - features.min()\n",
    "    all_features.append(features)"
   ],
   "metadata": {
    "collapsed": false,
    "pycharm": {
     "name": "#%%\n"
    }
   }
  },
  {
   "cell_type": "code",
   "execution_count": 34,
   "outputs": [],
   "source": [
    "LXY_3 = copy.deepcopy(all_features)"
   ],
   "metadata": {
    "collapsed": false,
    "pycharm": {
     "name": "#%%\n"
    }
   }
  },
  {
   "cell_type": "code",
   "execution_count": 36,
   "outputs": [],
   "source": [
    "all_features = []\n",
    "for idx in range(55):\n",
    "    if (idx + 1) < 10:\n",
    "        end = '0' + str(idx + 1)\n",
    "    else:\n",
    "        end = str(idx + 1)\n",
    "    path = root_2 + \"/\" + \"MS_\" + end + \".csv\"\n",
    "    data = np.loadtxt(path, delimiter=\",\")\n",
    "    filter_module = iir_design_filter()\n",
    "    filtered_data = filter_module.filter_(raw_data=data)\n",
    "    upper, _ = envelope(raw_data=filtered_data, n=100).start()\n",
    "    upper = upper[int(2302 * 0.5):-int(2302 * 0.5)]\n",
    "    rhythm_number = 3\n",
    "    end_points, _ = window_var(data=upper, head=rhythm_number).start()\n",
    "    end_points = np.sort(end_points)\n",
    "    end_points = end_points[1::2]\n",
    "    start_points = pattern_match(data=upper, number=rhythm_number).start()\n",
    "    features = np.append(end_points, start_points)\n",
    "    features = np.sort(features) - features.min()\n",
    "    all_features.append(features)"
   ],
   "metadata": {
    "collapsed": false,
    "pycharm": {
     "name": "#%%\n"
    }
   }
  },
  {
   "cell_type": "code",
   "execution_count": 37,
   "outputs": [],
   "source": [
    "MS_3 = copy.deepcopy(all_features)"
   ],
   "metadata": {
    "collapsed": false,
    "pycharm": {
     "name": "#%%\n"
    }
   }
  },
  {
   "cell_type": "code",
   "execution_count": 45,
   "outputs": [],
   "source": [
    "LXY_data = LXY_3[0]\n",
    "for idx in range(54):\n",
    "    if LXY_3[idx + 1].shape[0] ==6:\n",
    "        LXY_data = np.vstack((LXY_data, LXY_3[idx + 1]))\n",
    "np.savetxt('LXY_3.csv', LXY_data, fmt='%d')\n",
    "MS_data = MS_3[0]\n",
    "for idx in range(54):\n",
    "    if MS_3[idx + 1].shape[0] ==6:\n",
    "        MS_data = np.vstack((MS_data, MS_3[idx + 1]))\n",
    "np.savetxt('MS_3.csv', MS_data, fmt='%d')"
   ],
   "metadata": {
    "collapsed": false,
    "pycharm": {
     "name": "#%%\n"
    }
   }
  },
  {
   "cell_type": "code",
   "execution_count": 11,
   "outputs": [],
   "source": [
    "all_features = []\n",
    "for idx in range(20):\n",
    "    # if (idx + 1) < 10:\n",
    "    #     end = '0' + str(idx + 1)\n",
    "    # else:\n",
    "    end = str(idx + 1)\n",
    "    path = root_3 + \"/\" + \"FIVELXY1_\" + end + \".csv\"\n",
    "    data = np.loadtxt(path, delimiter=\",\")\n",
    "    filter_module = iir_design_filter()\n",
    "    filtered_data = filter_module.filter_(raw_data=data)\n",
    "    upper, _ = envelope(raw_data=filtered_data, n=100).start()\n",
    "    upper = upper[int(2302 * 0.5):-int(2302 * 0.5)]\n",
    "    rhythm_number = 6\n",
    "    end_points, _ = window_var(data=upper, head=rhythm_number).start()\n",
    "    end_points = np.sort(end_points)\n",
    "    end_points = end_points[1::2]\n",
    "    start_points = pattern_match(data=upper, number=rhythm_number).start()\n",
    "    features = np.append(end_points, start_points)\n",
    "    features = np.sort(features) - features.min()\n",
    "    all_features.append(features)"
   ],
   "metadata": {
    "collapsed": false,
    "pycharm": {
     "name": "#%%\n"
    }
   }
  },
  {
   "cell_type": "code",
   "execution_count": 16,
   "outputs": [],
   "source": [
    "LXY_6 = copy.deepcopy(all_features)\n",
    "LXY_data = LXY_6[0]\n",
    "for idx in range(19):\n",
    "    if LXY_6[idx + 1].shape[0] == 12:\n",
    "        LXY_data = np.vstack((LXY_data, LXY_6[idx + 1]))\n",
    "np.savetxt('LXY_6.csv', LXY_data, fmt='%d')"
   ],
   "metadata": {
    "collapsed": false,
    "pycharm": {
     "name": "#%%\n"
    }
   }
  },
  {
   "cell_type": "code",
   "execution_count": 3,
   "outputs": [],
   "source": [
    "def extract(num, root, head, rhythm):\n",
    "    all_features = []\n",
    "    for idx in range(num):\n",
    "        # if (idx + 1) < 10:\n",
    "        #     end = '0' + str(idx + 1)\n",
    "        # else:\n",
    "        end = str(idx + 1)\n",
    "        path = root + \"/\" + head + end + \".csv\"\n",
    "        data = np.loadtxt(path, delimiter=\",\")\n",
    "        filter_module = iir_design_filter()\n",
    "        filtered_data = filter_module.filter_(raw_data=data)\n",
    "        upper, _ = envelope(raw_data=filtered_data, n=100).start()\n",
    "        upper = upper[int(2302 * 0.5):-int(2302 * 0.5)]\n",
    "        rhythm_number = rhythm\n",
    "        end_points, _ = window_var(data=upper, head=rhythm_number).start()\n",
    "        end_points = np.sort(end_points)\n",
    "        end_points = end_points[1::2]\n",
    "        start_points = pattern_match(data=upper, number=rhythm_number).start()\n",
    "        features = np.append(end_points, start_points)\n",
    "        features = np.sort(features) - features.min()\n",
    "        all_features.append(features)\n",
    "    return all_features"
   ],
   "metadata": {
    "collapsed": false,
    "pycharm": {
     "name": "#%%\n"
    }
   }
  },
  {
   "cell_type": "code",
   "execution_count": 24,
   "outputs": [],
   "source": [
    "all_features = extract(num=15, root=root_4, head='FIVELXY2_', rhythm=7)"
   ],
   "metadata": {
    "collapsed": false,
    "pycharm": {
     "name": "#%%\n"
    }
   }
  },
  {
   "cell_type": "code",
   "execution_count": 51,
   "outputs": [],
   "source": [
    "LXY_7 = copy.deepcopy(all_features)\n",
    "LXY_data = []\n",
    "for idx in range(15):\n",
    "    if LXY_7[idx].shape[0] == 14:\n",
    "        LXY_data.append(LXY_7[idx])\n",
    "\n",
    "LXY_data = np.array(LXY_data, dtype=int)\n",
    "np.savetxt('LXY_7.csv', LXY_data, fmt='%d')"
   ],
   "metadata": {
    "collapsed": false,
    "pycharm": {
     "name": "#%%\n"
    }
   }
  },
  {
   "cell_type": "code",
   "execution_count": 4,
   "outputs": [],
   "source": [
    "all_features = extract(num=15, root=root_5, head='FIVEMS1_', rhythm=6)"
   ],
   "metadata": {
    "collapsed": false,
    "pycharm": {
     "name": "#%%\n"
    }
   }
  },
  {
   "cell_type": "code",
   "execution_count": 7,
   "outputs": [],
   "source": [
    "MS_6 = copy.deepcopy(all_features)\n",
    "MS_data = []\n",
    "for idx in range(15):\n",
    "    if MS_6[idx].shape[0] == 12:\n",
    "        MS_data.append(MS_6[idx])\n",
    "\n",
    "MS_data = np.array(MS_data, dtype=int)\n",
    "np.savetxt('MS_6.csv', MS_data, fmt='%d')"
   ],
   "metadata": {
    "collapsed": false,
    "pycharm": {
     "name": "#%%\n"
    }
   }
  },
  {
   "cell_type": "code",
   "execution_count": 10,
   "outputs": [],
   "source": [
    "all_features = extract(num=20, root=root_6, head='FIVEMS2_', rhythm=7)"
   ],
   "metadata": {
    "collapsed": false,
    "pycharm": {
     "name": "#%%\n"
    }
   }
  },
  {
   "cell_type": "code",
   "execution_count": 11,
   "outputs": [
    {
     "data": {
      "text/plain": "[array([    0,  1585,  8835, 10529, 13630, 15994, 23091, 24608, 28078,\n        30194, 37589, 39783, 43077], dtype=int64),\n array([    0,  2981,  5046, 10937, 12531, 15880, 17887, 19026, 26101,\n        26612, 32269, 38447, 40082, 44893], dtype=int64),\n array([    0,  2713,  4777, 10796, 12426, 16168, 18442, 24286, 26322,\n        29937, 32076, 39193, 41275, 44432], dtype=int64),\n array([    0,  3002,  5554, 11515, 13571, 16299, 18711, 25010, 26692,\n        31466, 33300, 40490, 41771, 46009], dtype=int64),\n array([    0,  2668,  4857,  9960, 11316, 15082, 16616, 22454, 24430,\n        28210, 29830, 36131, 37970, 41411], dtype=int64),\n array([    0,  1743,  8342, 10033, 13349, 15511, 21476, 22643, 26309,\n        27968, 34407, 35443, 38744], dtype=int64),\n array([    0,  3359,  5491, 14825, 14925, 21039, 21160, 30367, 30470,\n        36486, 36941, 44930, 45416, 49482], dtype=int64),\n array([    0,  2103,  9029, 10309, 14785, 16784, 23514, 25009, 29526,\n        31647, 39213, 41103, 44796], dtype=int64),\n array([    0,  3723,  5856, 12919, 14761, 19157, 21266, 28663, 29861,\n        34822, 36911, 45296, 46661, 50928], dtype=int64),\n array([    0,  3683,  5872, 13711, 15115, 19671, 21015, 27891, 29215,\n        33416, 35370, 42359, 43765, 47719], dtype=int64),\n array([    0,  2677,  4828, 11200, 12670, 16377, 17985, 25180, 30007,\n        32063, 38743, 40320, 44263], dtype=int64),\n array([    0,  2066,  9045, 10543, 14262, 16243, 23497, 25247, 28628,\n        30359, 37795, 39539, 43110], dtype=int64),\n array([    0,  3114,  5492, 11849, 13790, 17843, 19972, 27192, 28842,\n        33135, 35368, 42665, 44387, 48059], dtype=int64),\n array([    0,  3416,  5235, 12458, 14409, 17605, 19686, 26035, 27878,\n        31566, 33830, 41334, 43253, 47815], dtype=int64),\n array([    0,  3139, 11204, 12607, 15826, 17683, 24896, 26586, 29761,\n        31685, 38160, 40340, 43914], dtype=int64),\n array([    0,  3157,  5928, 12112, 14353, 18339, 20894, 27804, 29359,\n        33969, 44528, 46179, 50723], dtype=int64),\n array([    0,  2912,  5515, 12190, 13941, 17478, 19495, 26640, 32070,\n        34065, 40762, 42510, 46473], dtype=int64),\n array([    0,  3728,  6655, 12648, 18147, 20379, 26339, 28134, 31666,\n        33841, 40977, 42898, 46790], dtype=int64),\n array([    0,  4078,  6218, 12257, 14364, 17868, 20211, 25996, 28072,\n        31119, 33456, 39967, 42171, 45818], dtype=int64),\n array([    0,  3323,  5735, 11262, 12988, 18822, 18962, 26559, 26708,\n        32064, 32194, 40660, 40826, 45130], dtype=int64)]"
     },
     "execution_count": 11,
     "metadata": {},
     "output_type": "execute_result"
    }
   ],
   "source": [
    "all_features"
   ],
   "metadata": {
    "collapsed": false,
    "pycharm": {
     "name": "#%%\n"
    }
   }
  },
  {
   "cell_type": "code",
   "execution_count": 12,
   "outputs": [
    {
     "data": {
      "text/plain": "array([[    0,  2981,  5046, 10937, 12531, 15880, 17887, 19026, 26101,\n        26612, 32269, 38447, 40082, 44893],\n       [    0,  2713,  4777, 10796, 12426, 16168, 18442, 24286, 26322,\n        29937, 32076, 39193, 41275, 44432],\n       [    0,  3002,  5554, 11515, 13571, 16299, 18711, 25010, 26692,\n        31466, 33300, 40490, 41771, 46009],\n       [    0,  2668,  4857,  9960, 11316, 15082, 16616, 22454, 24430,\n        28210, 29830, 36131, 37970, 41411],\n       [    0,  3359,  5491, 14825, 14925, 21039, 21160, 30367, 30470,\n        36486, 36941, 44930, 45416, 49482],\n       [    0,  3723,  5856, 12919, 14761, 19157, 21266, 28663, 29861,\n        34822, 36911, 45296, 46661, 50928],\n       [    0,  3683,  5872, 13711, 15115, 19671, 21015, 27891, 29215,\n        33416, 35370, 42359, 43765, 47719],\n       [    0,  3114,  5492, 11849, 13790, 17843, 19972, 27192, 28842,\n        33135, 35368, 42665, 44387, 48059],\n       [    0,  3416,  5235, 12458, 14409, 17605, 19686, 26035, 27878,\n        31566, 33830, 41334, 43253, 47815]])"
     },
     "execution_count": 12,
     "metadata": {},
     "output_type": "execute_result"
    }
   ],
   "source": [
    "MS_7 = copy.deepcopy(all_features)\n",
    "MS_data = []\n",
    "for idx in range(15):\n",
    "    if MS_7[idx].shape[0] == 14:\n",
    "        MS_data.append(MS_7[idx])\n",
    "\n",
    "MS_data = np.array(MS_data, dtype=int)\n",
    "np.savetxt('MS_7.csv', MS_data, fmt='%d')\n",
    "MS_data"
   ],
   "metadata": {
    "collapsed": false,
    "pycharm": {
     "name": "#%%\n"
    }
   }
  },
  {
   "cell_type": "code",
   "execution_count": 15,
   "outputs": [
    {
     "data": {
      "text/plain": "<Figure size 1152x648 with 1 Axes>",
      "image/png": "[encoded data removed]"
     },
     "metadata": {
      "needs_background": "light"
     },
     "output_type": "display_data"
    }
   ],
   "source": [
    "path = root_6 + \"/\" + \"FIVEMS2_\" + '1' + \".csv\"\n",
    "data = np.loadtxt(path, delimiter=\",\")\n",
    "filter_module = iir_design_filter()\n",
    "filtered_data = filter_module.filter_(raw_data=data)\n",
    "filter_module.plot_()"
   ],
   "metadata": {
    "collapsed": false,
    "pycharm": {
     "name": "#%%\n"
    }
   }
  },
  {
   "cell_type": "code",
   "execution_count": 4,
   "outputs": [],
   "source": [
    "import sklearn.metrics as sm\n",
    "from classifier import one_class_svm\n",
    "def add_modify(file_path='gross_name.csv', raw_path='gross_features.csv', data=None, add_data=None, add_name=None):\n",
    "    name_list = np.loadtxt(file_path, dtype=str)\n",
    "    if data is None:\n",
    "        raw_data = np.loadtxt(raw_path)\n",
    "    else:\n",
    "        raw_data = data\n",
    "    if raw_data.shape[0] == 0:\n",
    "        result = add_data\n",
    "    else:\n",
    "        column = raw_data.shape[1] if raw_data.shape[1] > add_data.shape[1] else add_data.shape[1]\n",
    "        result = np.zeros((raw_data.shape[0] + add_data.shape[0], column))\n",
    "        result[0:raw_data.shape[0], 0:raw_data.shape[1]] = raw_data\n",
    "        result[raw_data.shape[0]:, 0:add_data.shape[1]] = add_data\n",
    "    if data is None and add_name is not None:\n",
    "        name_list = np.append(name_list, add_name)\n",
    "        np.savetxt(raw_path, result)\n",
    "        np.savetxt(file_path, name_list, fmt='%s')\n",
    "    elif data is None and add_name is None:\n",
    "        np.savetxt(raw_path, result)\n",
    "    else:\n",
    "        return result"
   ],
   "metadata": {
    "collapsed": false,
    "pycharm": {
     "name": "#%%\n"
    }
   }
  },
  {
   "cell_type": "code",
   "execution_count": null,
   "outputs": [],
   "source": [
    "LXY_3 = np.loadtxt('LXY_3.csv')\n",
    "add_modify(add_data=LXY_3)\n",
    "LXY_6 = np.loadtxt('LXY_6.csv')\n",
    "add_modify(add_data=LXY_6)\n",
    "LXY_7 = np.loadtxt('LXY_7.csv')\n",
    "add_modify(add_data=LXY_7)"
   ],
   "metadata": {
    "collapsed": false,
    "pycharm": {
     "name": "#%%\n"
    }
   }
  },
  {
   "cell_type": "code",
   "execution_count": 20,
   "outputs": [
    {
     "name": "stdout",
     "output_type": "stream",
     "text": [
      "Training Data Accuracy(Positive): 0.8928571428571429\n",
      "---------------混淆矩阵\n",
      " [[ 0  0]\n",
      " [ 9 75]]\n",
      "---------------分类报告\n",
      "               precision    recall  f1-score   support\n",
      "\n",
      "        -1.0       0.00      0.00      0.00         0\n",
      "         1.0       1.00      0.89      0.94        84\n",
      "\n",
      "    accuracy                           0.89        84\n",
      "   macro avg       0.50      0.45      0.47        84\n",
      "weighted avg       1.00      0.89      0.94        84\n",
      "\n"
     ]
    },
    {
     "name": "stderr",
     "output_type": "stream",
     "text": [
      "C:\\Users\\Mr.yao\\anaconda3\\lib\\site-packages\\sklearn\\metrics\\_classification.py:1318: UndefinedMetricWarning: Recall and F-score are ill-defined and being set to 0.0 in labels with no true samples. Use `zero_division` parameter to control this behavior.\n",
      "  _warn_prf(average, modifier, msg_start, len(result))\n",
      "C:\\Users\\Mr.yao\\anaconda3\\lib\\site-packages\\sklearn\\metrics\\_classification.py:1318: UndefinedMetricWarning: Recall and F-score are ill-defined and being set to 0.0 in labels with no true samples. Use `zero_division` parameter to control this behavior.\n",
      "  _warn_prf(average, modifier, msg_start, len(result))\n",
      "C:\\Users\\Mr.yao\\anaconda3\\lib\\site-packages\\sklearn\\metrics\\_classification.py:1318: UndefinedMetricWarning: Recall and F-score are ill-defined and being set to 0.0 in labels with no true samples. Use `zero_division` parameter to control this behavior.\n",
      "  _warn_prf(average, modifier, msg_start, len(result))\n"
     ]
    }
   ],
   "source": [
    "svm = one_class_svm()\n",
    "svm.train_()\n",
    "cm = sm.confusion_matrix(svm.y_train, svm.y_pred_train)\n",
    "cp = sm.classification_report(svm.y_train, svm.y_pred_train)\n",
    "print(\"---------------混淆矩阵\\n\", cm)\n",
    "print(\"---------------分类报告\\n\", cp)"
   ],
   "metadata": {
    "collapsed": false,
    "pycharm": {
     "name": "#%%\n"
    }
   }
  },
  {
   "cell_type": "code",
   "execution_count": 21,
   "outputs": [
    {
     "data": {
      "text/plain": "<Figure size 432x288 with 2 Axes>",
      "image/png": "[encoded data removed]"
     },
     "metadata": {
      "needs_background": "light"
     },
     "output_type": "display_data"
    }
   ],
   "source": [
    "import matplotlib.pyplot as plt\n",
    "plt.rcParams['font.sans-serif'] = ['SimHei']\n",
    "plt.rcParams['axes.unicode_minus'] = False\n",
    "labels = ['非法用户', '合法用户']\n",
    "disp = sm.ConfusionMatrixDisplay(confusion_matrix=cm, display_labels=labels)\n",
    "disp.plot()\n",
    "plt.savefig('合法用户混淆矩阵.png', dpi=400)"
   ],
   "metadata": {
    "collapsed": false,
    "pycharm": {
     "name": "#%%\n"
    }
   }
  },
  {
   "cell_type": "code",
   "execution_count": 15,
   "outputs": [],
   "source": [
    "def process_features(data):\n",
    "    length = len(data)\n",
    "    for idx in range(length):\n",
    "        data[idx][np.where(data[idx] == 0)[0]] = data[idx][1]\n",
    "    return data"
   ],
   "metadata": {
    "collapsed": false,
    "pycharm": {
     "name": "#%%\n"
    }
   }
  },
  {
   "cell_type": "code",
   "execution_count": 16,
   "outputs": [
    {
     "name": "stderr",
     "output_type": "stream",
     "text": [
      "<ipython-input-4-e65d72704b40>:4: UserWarning: loadtxt: Empty input file: \"gross_name.csv\"\n",
      "  name_list = np.loadtxt(file_path, dtype=str)\n"
     ]
    }
   ],
   "source": [
    "test_pred = []\n",
    "MS_3 = np.loadtxt('MS_3.csv')\n",
    "MS_6 = np.loadtxt('MS_6.csv')\n",
    "MS_7 = np.loadtxt('MS_7.csv')\n",
    "MS = add_modify(data=MS_3, add_data=MS_6)\n",
    "MS = add_modify(data=MS, add_data=MS_7)\n",
    "\n",
    "MS = process_features(MS)\n",
    "test_true = -np.ones(len(MS_3) + len(MS_6) + len(MS_7))\n",
    "for idx in  range(len(MS)):\n",
    "    test_pred.append(svm.predict_(MS[idx].reshape(1, -1)))"
   ],
   "metadata": {
    "collapsed": false,
    "pycharm": {
     "name": "#%%\n"
    }
   }
  },
  {
   "cell_type": "code",
   "execution_count": 17,
   "outputs": [
    {
     "name": "stdout",
     "output_type": "stream",
     "text": [
      "---------------非法用户混淆矩阵\n",
      " [[54 13]\n",
      " [ 0  0]]\n",
      "---------------非法用户分类报告\n",
      "               precision    recall  f1-score   support\n",
      "\n",
      "        -1.0       1.00      0.81      0.89        67\n",
      "         1.0       0.00      0.00      0.00         0\n",
      "\n",
      "    accuracy                           0.81        67\n",
      "   macro avg       0.50      0.40      0.45        67\n",
      "weighted avg       1.00      0.81      0.89        67\n",
      "\n"
     ]
    },
    {
     "name": "stderr",
     "output_type": "stream",
     "text": [
      "C:\\Users\\Mr.yao\\anaconda3\\lib\\site-packages\\sklearn\\metrics\\_classification.py:1318: UndefinedMetricWarning: Recall and F-score are ill-defined and being set to 0.0 in labels with no true samples. Use `zero_division` parameter to control this behavior.\n",
      "  _warn_prf(average, modifier, msg_start, len(result))\n",
      "C:\\Users\\Mr.yao\\anaconda3\\lib\\site-packages\\sklearn\\metrics\\_classification.py:1318: UndefinedMetricWarning: Recall and F-score are ill-defined and being set to 0.0 in labels with no true samples. Use `zero_division` parameter to control this behavior.\n",
      "  _warn_prf(average, modifier, msg_start, len(result))\n",
      "C:\\Users\\Mr.yao\\anaconda3\\lib\\site-packages\\sklearn\\metrics\\_classification.py:1318: UndefinedMetricWarning: Recall and F-score are ill-defined and being set to 0.0 in labels with no true samples. Use `zero_division` parameter to control this behavior.\n",
      "  _warn_prf(average, modifier, msg_start, len(result))\n"
     ]
    }
   ],
   "source": [
    "cm = sm.confusion_matrix(test_true, test_pred)\n",
    "cp = sm.classification_report(test_true, test_pred)\n",
    "print(\"---------------非法用户混淆矩阵\\n\", cm)\n",
    "print(\"---------------非法用户分类报告\\n\", cp)"
   ],
   "metadata": {
    "collapsed": false,
    "pycharm": {
     "name": "#%%\n"
    }
   }
  },
  {
   "cell_type": "code",
   "execution_count": 19,
   "outputs": [
    {
     "data": {
      "text/plain": "<Figure size 432x288 with 2 Axes>",
      "image/png": "[encoded data removed]"
     },
     "metadata": {
      "needs_background": "light"
     },
     "output_type": "display_data"
    }
   ],
   "source": [
    "import matplotlib.pyplot as plt\n",
    "plt.rcParams['font.sans-serif'] = ['SimHei']\n",
    "plt.rcParams['axes.unicode_minus'] = False\n",
    "# labels = ['非法用户', '合法用户']\n",
    "disp = sm.ConfusionMatrixDisplay(confusion_matrix=cm, display_labels=labels)\n",
    "disp.plot()\n",
    "plt.savefig('非法用户混淆矩阵.png', dpi=400)"
   ],
   "metadata": {
    "collapsed": false,
    "pycharm": {
     "name": "#%%\n"
    }
   }
  },
  {
   "cell_type": "code",
   "execution_count": null,
   "outputs": [],
   "source": [],
   "metadata": {
    "collapsed": false,
    "pycharm": {
     "name": "#%%\n"
    }
   }
  }
 ],
 "metadata": {
  "kernelspec": {
   "display_name": "Python 3",
   "language": "python",
   "name": "python3"
  },
  "language_info": {
   "codemirror_mode": {
    "name": "ipython",
    "version": 2
   },
   "file_extension": ".py",
   "mimetype": "text/x-python",
   "name": "python",
   "nbconvert_exporter": "python",
   "pygments_lexer": "ipython2",
   "version": "2.7.6"
  }
 },
 "nbformat": 4,
 "nbformat_minor": 0
}